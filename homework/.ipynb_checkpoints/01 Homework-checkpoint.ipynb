{
 "cells": [
  {
   "cell_type": "code",
   "execution_count": 3,
   "metadata": {},
   "outputs": [
    {
     "name": "stdout",
     "output_type": "stream",
     "text": [
      "[7, 9, 5, 9, 6, 2]\n",
      "[7, 9, 5, 9, 6, 2]\n",
      "[array([1, 4]), array([3, 9]), array([0, 3])]\n",
      "[[1, 4], [3, 9], [0, 3]]\n"
     ]
    }
   ],
   "source": [
    "import numpy as np\n",
    "\n",
    "a = np.random.randint(10, size=6)\n",
    "\n",
    "print(list(a))\n",
    "print(a.tolist())\n",
    "\n",
    "b = np.random.randint(10, size=6).reshape(3,2)\n",
    "\n",
    "print(list(b))\n",
    "print(b.tolist())"
   ]
  },
  {
   "cell_type": "code",
   "execution_count": null,
   "metadata": {},
   "outputs": [],
   "source": [
    "#list只會把第一層元素轉換成list"
   ]
  },
  {
   "cell_type": "code",
   "execution_count": 6,
   "metadata": {},
   "outputs": [
    {
     "name": "stdout",
     "output_type": "stream",
     "text": [
      "[0 3 6 0 1 0]\n",
      "1\n",
      "(6,)\n",
      "6\n",
      "int32\n",
      "4\n",
      "6\n",
      "<class 'numpy.ndarray'>\n"
     ]
    }
   ],
   "source": [
    "import numpy as np\n",
    "\n",
    "a = np.random.randint(10, size=6)\n",
    "print(a)\n",
    "\n",
    "print(a.ndim)\n",
    "print(a.shape)\n",
    "print(a.size)\n",
    "print(a.dtype)\n",
    "print(a.itemsize)\n",
    "print(len(a))\n",
    "print(type(a))"
   ]
  },
  {
   "cell_type": "code",
   "execution_count": 11,
   "metadata": {},
   "outputs": [],
   "source": [
    "a = np.random.randint(10, size=6)\n",
    "b = np.random.randint(10, size=(3,4))\n",
    "c = np.random.randint(10, size=(2,3,2))"
   ]
  },
  {
   "cell_type": "code",
   "execution_count": 13,
   "metadata": {},
   "outputs": [
    {
     "name": "stdout",
     "output_type": "stream",
     "text": [
      "[1, 8, 2, 7, 8, 7]\n",
      "[[2, 6, 3, 1], [8, 6, 3, 3], [1, 8, 6, 9]]\n",
      "[[[0, 3], [7, 0], [8, 5]], [[5, 7], [5, 7], [1, 0]]]\n"
     ]
    }
   ],
   "source": [
    "def tolist(iterable):\n",
    "    if type(iterable) != np.ndarray:\n",
    "        return iterable\n",
    "    return [tolist(i) for i in iterable]\n",
    "\n",
    "print(tolist(a))\n",
    "print(tolist(b))\n",
    "print(tolist(c))"
   ]
  }
 ],
 "metadata": {
  "kernelspec": {
   "display_name": "Python 3",
   "language": "python",
   "name": "python3"
  },
  "language_info": {
   "codemirror_mode": {
    "name": "ipython",
    "version": 3
   },
   "file_extension": ".py",
   "mimetype": "text/x-python",
   "name": "python",
   "nbconvert_exporter": "python",
   "pygments_lexer": "ipython3",
   "version": "3.8.5"
  }
 },
 "nbformat": 4,
 "nbformat_minor": 4
}
